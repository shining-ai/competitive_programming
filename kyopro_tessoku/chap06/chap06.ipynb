{
 "cells": [
  {
   "cell_type": "markdown",
   "metadata": {},
   "source": [
    "# 競技プログラミングの鉄則（第6章）"
   ]
  },
  {
   "cell_type": "markdown",
   "metadata": {},
   "source": [
    "## A36\n",
    "\n",
    "偶数歩か奇数歩かで行けるマスは決まっている"
   ]
  },
  {
   "cell_type": "code",
   "execution_count": 24,
   "metadata": {},
   "outputs": [],
   "source": [
    "_INPUT = \"\"\"\\\n",
    "5 10\n",
    "\"\"\"\n"
   ]
  },
  {
   "cell_type": "code",
   "execution_count": 7,
   "metadata": {},
   "outputs": [
    {
     "name": "stdout",
     "output_type": "stream",
     "text": [
      "Yes\n"
     ]
    }
   ],
   "source": [
    "N, K = 5, 10\n",
    "\n",
    "ans = \"No\"\n",
    "if K >= 2 * N - 2:\n",
    "    if K % 2 == 0:\n",
    "        ans = \"Yes\"\n",
    "\n",
    "print(ans)\n"
   ]
  },
  {
   "cell_type": "markdown",
   "metadata": {},
   "source": [
    "## A37\n",
    "毎回同じ足し算をする部分は掛け算にする\n",
    "\n",
    "普通にやるとO(NM)\n",
    "\n",
    "計算量: O(N + M)\n"
   ]
  },
  {
   "cell_type": "code",
   "execution_count": 25,
   "metadata": {},
   "outputs": [],
   "source": [
    "_INPUT = \"\"\"\\\n",
    "    2 3 100\n",
    "    10 20\n",
    "    1 2 3\n",
    "    \"\"\"\n"
   ]
  },
  {
   "cell_type": "code",
   "execution_count": 26,
   "metadata": {},
   "outputs": [
    {
     "name": "stdout",
     "output_type": "stream",
     "text": [
      "702\n"
     ]
    }
   ],
   "source": [
    "N, M, B = 2, 3, 100\n",
    "A = [10, 20]\n",
    "C = [1, 2, 3]\n",
    "\n",
    "ans = 0\n",
    "\n",
    "# 中継点Xまでの合計を計算\n",
    "for i_a in A:\n",
    "    ans += i_a * M\n",
    "\n",
    "# 中継点Xから中継点Yまでの合計を計算\n",
    "ans += B * N * M\n",
    "\n",
    "# 中継点Y以降の合計を計算\n",
    "for i_c in C:\n",
    "    ans += i_c * N\n",
    "\n",
    "print(ans)\n"
   ]
  },
  {
   "cell_type": "markdown",
   "metadata": {},
   "source": [
    "## A38\n",
    "最大H時間として、L～R日の合計を計算する"
   ]
  },
  {
   "cell_type": "code",
   "execution_count": 27,
   "metadata": {},
   "outputs": [],
   "source": [
    "_INPUT = \"\"\"\\\n",
    "5 3\n",
    "1 2 22\n",
    "2 3 16\n",
    "3 5 23\n",
    "\"\"\"\n"
   ]
  },
  {
   "cell_type": "code",
   "execution_count": 28,
   "metadata": {},
   "outputs": [
    {
     "name": "stdout",
     "output_type": "stream",
     "text": [
      "100\n"
     ]
    }
   ],
   "source": [
    "# 計算量: O(N*D)\n",
    "\n",
    "D, N = 5, 3\n",
    "\n",
    "limit = [24] * (D + 1)\n",
    "limit[0] = 0  # 0日目は無視する\n",
    "\n",
    "\n",
    "for L, R, H in [(1, 2, 22), (2, 3, 16), (3, 5, 23)]:\n",
    "    for i_d in range(L, R + 1):\n",
    "        limit[i_d] = min(limit[i_d], H)\n",
    "\n",
    "ans = sum(limit)\n",
    "print(ans)\n"
   ]
  },
  {
   "cell_type": "markdown",
   "metadata": {},
   "source": [
    "## A39\n",
    "貪欲法\n",
    "\n",
    "普通にやるとO(Answer ✕ N)\n",
    "\n",
    "ソートするとO(NlogN)"
   ]
  },
  {
   "cell_type": "code",
   "execution_count": 29,
   "metadata": {},
   "outputs": [],
   "source": [
    "_INPUT = \"\"\"\\\n",
    "3\n",
    "123 86399\n",
    "1 86400\n",
    "86399 86400\n",
    "\"\"\"\n"
   ]
  },
  {
   "cell_type": "code",
   "execution_count": 30,
   "metadata": {},
   "outputs": [
    {
     "name": "stdout",
     "output_type": "stream",
     "text": [
      "2\n"
     ]
    }
   ],
   "source": [
    "N = 3\n",
    "schedule = [[123, 86399], [1, 86400], [86399, 86400]]\n",
    "current_time = 0\n",
    "result = 0\n",
    "\n",
    "schedule.sort(key=lambda x: x[1])\n",
    "\n",
    "for i in range(N):\n",
    "    if current_time <= schedule[i][0]:\n",
    "        current_time = schedule[i][1]\n",
    "        result += 1\n",
    "\n",
    "print(result)\n"
   ]
  },
  {
   "cell_type": "markdown",
   "metadata": {},
   "source": [
    "## A40\n",
    "本数を数えるO(N)\n",
    "\n",
    "普通にやると(Nから3つを選ぶ)"
   ]
  },
  {
   "cell_type": "code",
   "execution_count": 3,
   "metadata": {},
   "outputs": [],
   "source": [
    "_INPUT = \"\"\"\\\n",
    "7\n",
    "1 2 1 2 1 2 1\n",
    "\"\"\"\n"
   ]
  },
  {
   "cell_type": "code",
   "execution_count": 31,
   "metadata": {},
   "outputs": [
    {
     "name": "stdout",
     "output_type": "stream",
     "text": [
      "5\n"
     ]
    }
   ],
   "source": [
    "bar_num = [0] * 101\n",
    "result = 0\n",
    "\n",
    "for i in (1, 2, 1, 2, 1, 2, 1):\n",
    "    bar_num[i] += 1\n",
    "\n",
    "for i_bar in bar_num:\n",
    "    if i_bar >= 3:\n",
    "        result += i_bar * (i_bar - 1) * (i_bar - 2) // 6\n",
    "\n",
    "print(result)\n"
   ]
  },
  {
   "cell_type": "markdown",
   "metadata": {},
   "source": [
    "## A41\n",
    "\n",
    "3つ連続のタイルがあればOK"
   ]
  },
  {
   "cell_type": "code",
   "execution_count": 32,
   "metadata": {},
   "outputs": [],
   "source": [
    "_INPUT = \"\"\"\n",
    "7\n",
    "BBRRRBB\n",
    "\"\"\"\n"
   ]
  },
  {
   "cell_type": "code",
   "execution_count": 33,
   "metadata": {},
   "outputs": [
    {
     "name": "stdout",
     "output_type": "stream",
     "text": [
      "Yes\n"
     ]
    }
   ],
   "source": [
    "last = \"\"\n",
    "second_last = \"\"\n",
    "\n",
    "ans = \"No\"\n",
    "for i_color in \"BBRRRBB\":\n",
    "    if i_color == last and i_color == second_last:\n",
    "        ans = \"Yes\"\n",
    "    second_last = last\n",
    "    last = i_color\n",
    "\n",
    "print(ans)\n"
   ]
  },
  {
   "cell_type": "markdown",
   "metadata": {},
   "source": [
    "## A42\n",
    "\n",
    "普通にやるとO(2^N)\n",
    "\n",
    "体力・気力の最低値を固定するO(100N)"
   ]
  },
  {
   "cell_type": "code",
   "execution_count": 34,
   "metadata": {},
   "outputs": [],
   "source": [
    "_INPUT = \"\"\"\\\n",
    "4 30\n",
    "20 30\n",
    "10 40\n",
    "50 10\n",
    "30 60\n",
    "\"\"\"\n"
   ]
  },
  {
   "cell_type": "code",
   "execution_count": 35,
   "metadata": {},
   "outputs": [
    {
     "name": "stdout",
     "output_type": "stream",
     "text": [
      "3\n"
     ]
    }
   ],
   "source": [
    "def get_score(A, B, a, b, K):\n",
    "    res = 0\n",
    "    for i in range(len(A)):\n",
    "        if a <= A[i] <= a + K and b <= B[i] <= b + K:\n",
    "            res += 1\n",
    "    return res\n",
    "\n",
    "\n",
    "N, K = 4, 30\n",
    "A = []\n",
    "B = []\n",
    "\n",
    "ans = 0\n",
    "\n",
    "for i_a, i_b in ((20, 30), (10, 40), (50, 10), (30, 60)):\n",
    "    a, b = i_a, i_b\n",
    "    A.append(a)\n",
    "    B.append(b)\n",
    "\n",
    "for i_a in range(101):\n",
    "    for j_b in range(101):\n",
    "        res = get_score(A, B, i_a, j_b, K)\n",
    "        ans = max(ans, res)\n",
    "\n",
    "print(ans)\n"
   ]
  },
  {
   "cell_type": "markdown",
   "metadata": {},
   "source": [
    "## A43\n",
    "\n",
    "有名な蟻の問題\n",
    "\n",
    "O(N)\n"
   ]
  },
  {
   "cell_type": "code",
   "execution_count": 36,
   "metadata": {},
   "outputs": [],
   "source": [
    "_INPUT = \"\"\"\\\n",
    "3 100\n",
    "20 E\n",
    "50 E\n",
    "70 W\n",
    "\"\"\"\n"
   ]
  },
  {
   "cell_type": "code",
   "execution_count": 37,
   "metadata": {},
   "outputs": [
    {
     "name": "stdout",
     "output_type": "stream",
     "text": [
      "80\n"
     ]
    }
   ],
   "source": [
    "N, L = 3, 100\n",
    "ans = 0\n",
    "\n",
    "for i_a, i_b in ([20, \"E\"], [50, \"E\"], [70, \"W\"]):\n",
    "    A, B = i_a, i_b\n",
    "    if B == \"E\":\n",
    "        time = L - int(A)\n",
    "    else:\n",
    "        time = int(A)\n",
    "    ans = max(ans, time)\n",
    "\n",
    "print(ans)\n"
   ]
  },
  {
   "cell_type": "markdown",
   "metadata": {},
   "source": [
    "## A44\n",
    "\n",
    "配列の操作"
   ]
  },
  {
   "cell_type": "code",
   "execution_count": 16,
   "metadata": {},
   "outputs": [],
   "source": [
    "_INPUT = \"\"\"\\\n",
    "5 4\n",
    "1 4 8\n",
    "3 2\n",
    "2\n",
    "3 2\n",
    "\"\"\"\n"
   ]
  },
  {
   "cell_type": "code",
   "execution_count": 38,
   "metadata": {},
   "outputs": [
    {
     "name": "stdout",
     "output_type": "stream",
     "text": [
      "2\n",
      "8\n"
     ]
    }
   ],
   "source": [
    "def Query1(flag_rev, A, x, y, N):\n",
    "    if flag_rev:\n",
    "        A[-x] = y\n",
    "    else:\n",
    "        A[x - 1] = y\n",
    "\n",
    "    return A\n",
    "\n",
    "\n",
    "def Query3(flag_rev, A, x, N):\n",
    "    if flag_rev:\n",
    "        print(A[-x])\n",
    "    else:\n",
    "        print(A[x - 1])\n",
    "\n",
    "    return A\n",
    "\n",
    "\n",
    "N, Q = 5, 4\n",
    "A = list(i for i in range(1, N + 1))\n",
    "flag_rev = False  # Query2のフラグ\n",
    "\n",
    "for Query in ([1, 4, 8], [3, 2], [2], [3, 2]):\n",
    "    if Query[0] == 1:\n",
    "        Query1(flag_rev, A, Query[1], Query[2], N)\n",
    "    elif Query[0] == 2:\n",
    "        flag_rev = not flag_rev\n",
    "    else:\n",
    "        Query3(flag_rev, A, Query[1], N)\n"
   ]
  },
  {
   "cell_type": "markdown",
   "metadata": {},
   "source": [
    "## A45\n",
    "\n",
    "白→0, 青→1, 赤→2とすると\n",
    "\n",
    "全カードの%3の値は変わらない"
   ]
  },
  {
   "cell_type": "code",
   "execution_count": 39,
   "metadata": {},
   "outputs": [],
   "source": [
    "_INPUT = \"\"\"\\\n",
    "4 B\n",
    "WBBR\n",
    "\"\"\"\n"
   ]
  },
  {
   "cell_type": "code",
   "execution_count": 40,
   "metadata": {},
   "outputs": [
    {
     "name": "stdout",
     "output_type": "stream",
     "text": [
      "No\n"
     ]
    }
   ],
   "source": [
    "def print_res(val, C_VAL):\n",
    "    if val % 3 == C_VAL:\n",
    "        print(\"Yes\")\n",
    "    else:\n",
    "        print(\"No\")\n",
    "\n",
    "\n",
    "N, C = 4, B\n",
    "A = \"WBBR\"\n",
    "W_VAL = 0\n",
    "B_VAL = 1\n",
    "R_VAL = 2\n",
    "\n",
    "val = 0\n",
    "\n",
    "for i_a in A:\n",
    "    if i_a == \"R\":\n",
    "        val += R_VAL\n",
    "    elif i_a == \"W\":\n",
    "        val += W_VAL\n",
    "    elif i_a == \"B\":\n",
    "        val += B_VAL\n",
    "\n",
    "if C == \"R\":\n",
    "    print_res(val, R_VAL)\n",
    "elif C == \"W\":\n",
    "    print_res(val, W_VAL)\n",
    "elif C == \"B\":\n",
    "    print_res(val, B_VAL)\n"
   ]
  }
 ],
 "metadata": {
  "kernelspec": {
   "display_name": "Python 3",
   "language": "python",
   "name": "python3"
  },
  "language_info": {
   "codemirror_mode": {
    "name": "ipython",
    "version": 3
   },
   "file_extension": ".py",
   "mimetype": "text/x-python",
   "name": "python",
   "nbconvert_exporter": "python",
   "pygments_lexer": "ipython3",
   "version": "3.8.10"
  },
  "orig_nbformat": 4
 },
 "nbformat": 4,
 "nbformat_minor": 2
}
