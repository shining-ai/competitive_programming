{
 "cells": [
  {
   "cell_type": "markdown",
   "metadata": {},
   "source": [
    "# 競技プログラミングの鉄則（第2章）"
   ]
  },
  {
   "cell_type": "markdown",
   "metadata": {},
   "source": [
    "## A06\n",
    "計算量O(N+Q)\n",
    "\n",
    "普通にやるとO(N^2)"
   ]
  },
  {
   "cell_type": "code",
   "execution_count": 1,
   "metadata": {},
   "outputs": [],
   "source": [
    "_INPUT = \"\"\"\\\n",
    "10 5\n",
    "8 6 9 1 2 1 10 100 1000 10000\n",
    "2 3\n",
    "1 4\n",
    "3 9\n",
    "6 8\n",
    "1 10\n",
    "\"\"\"\n"
   ]
  },
  {
   "cell_type": "code",
   "execution_count": 2,
   "metadata": {},
   "outputs": [
    {
     "data": {
      "text/plain": [
       "[0, 8, 14, 23, 24, 26, 27, 37, 137, 1137, 11137]"
      ]
     },
     "execution_count": 2,
     "metadata": {},
     "output_type": "execute_result"
    }
   ],
   "source": [
    "\n",
    "N, Q = 10, 5\n",
    "A = [8, 6, 9, 1, 2, 1, 10, 100, 1000, 10000]\n",
    "prefix_sum = [0]\n",
    "L = [2, 1, 3, 6, 1]\n",
    "R = [3, 4, 9, 8, 10]\n",
    "\n",
    "# O(N)\n",
    "# 累積和を計算\n",
    "for i_a in A:\n",
    "    prefix_sum.append(prefix_sum[-1] + i_a)\n",
    "\n",
    "prefix_sum"
   ]
  },
  {
   "cell_type": "code",
   "execution_count": 3,
   "metadata": {},
   "outputs": [
    {
     "name": "stdout",
     "output_type": "stream",
     "text": [
      "prefix_sum[3] - prefix_sum[2] = 15\n",
      "prefix_sum[4] - prefix_sum[1] = 24\n",
      "prefix_sum[9] - prefix_sum[3] = 1123\n",
      "prefix_sum[8] - prefix_sum[6] = 111\n",
      "prefix_sum[10] - prefix_sum[1] = 11137\n"
     ]
    }
   ],
   "source": [
    "# O(Q)\n",
    "# 累積和を使って、区間の和を計算\n",
    "for i_q in range(Q):\n",
    "    start_day, end_day = L[i_q], R[i_q]\n",
    "    result = prefix_sum[end_day] - prefix_sum[start_day - 1]\n",
    "    print(f\"prefix_sum[{end_day}] - prefix_sum[{start_day}] = {result}\")\n"
   ]
  },
  {
   "cell_type": "markdown",
   "metadata": {},
   "source": [
    "## A07\n",
    "計算量O(N+D)\n",
    "\n",
    "普通に計算するとO(ND)"
   ]
  },
  {
   "cell_type": "code",
   "execution_count": 4,
   "metadata": {},
   "outputs": [],
   "source": [
    "_INPUT = \"\"\"\\\n",
    "8\n",
    "5\n",
    "2 3\n",
    "3 6\n",
    "5 7\n",
    "3 7\n",
    "1 5\n",
    "\"\"\""
   ]
  },
  {
   "cell_type": "code",
   "execution_count": 5,
   "metadata": {},
   "outputs": [
    {
     "name": "stdout",
     "output_type": "stream",
     "text": [
      "前日との差分：[0, 1, 1, 2, -1, 1, -1, -1, -2, 0]\n"
     ]
    }
   ],
   "source": [
    "    D = 8\n",
    "    N = 5\n",
    "    attendees = [0] * (D + 2)\n",
    "    L = [2, 3, 5, 3, 1]\n",
    "    R = [3, 6, 7, 7, 5]\n",
    "\n",
    "    # O(N)\n",
    "    # 前日との差分を計算\n",
    "    for _ in range(N):\n",
    "        start_day, end_day = L[_], R[_]\n",
    "        attendees[start_day] += 1\n",
    "        attendees[end_day + 1] -= 1\n",
    "    print(f\"前日との差分：{attendees}\")"
   ]
  },
  {
   "cell_type": "code",
   "execution_count": 6,
   "metadata": {},
   "outputs": [
    {
     "name": "stdout",
     "output_type": "stream",
     "text": [
      "累積：[0, 1, 2, 4, 3, 4, 3, 2, 0, 0]\n"
     ]
    }
   ],
   "source": [
    "    # O(D)\n",
    "    # 累積和を計算\n",
    "    for i_d in range(1, D + 1):\n",
    "        attendees[i_d] += attendees[i_d - 1]\n",
    "    print(f\"累積：{attendees}\")"
   ]
  },
  {
   "cell_type": "code",
   "execution_count": 7,
   "metadata": {},
   "outputs": [
    {
     "name": "stdout",
     "output_type": "stream",
     "text": [
      "1\n",
      "2\n",
      "4\n",
      "3\n",
      "4\n",
      "3\n",
      "2\n",
      "0\n"
     ]
    }
   ],
   "source": [
    "    attendees.pop(0)\n",
    "    attendees.pop(-1)\n",
    "    for i_attendee in attendees:\n",
    "        print(i_attendee)"
   ]
  },
  {
   "cell_type": "markdown",
   "metadata": {},
   "source": [
    "## A8\n",
    "O(2HW+Q)\n",
    "\n",
    "普通にやるとO(HWQ)"
   ]
  },
  {
   "cell_type": "code",
   "execution_count": 8,
   "metadata": {},
   "outputs": [],
   "source": [
    "_INPUT = \"\"\"\\\n",
    "5 5\n",
    "2 0 0 5 1\n",
    "1 0 3 0 0\n",
    "0 8 5 0 2\n",
    "4 1 0 0 6\n",
    "0 9 2 7 0\n",
    "2\n",
    "2 2 4 5\n",
    "1 1 5 5\n",
    "\"\"\""
   ]
  },
  {
   "cell_type": "code",
   "execution_count": 9,
   "metadata": {},
   "outputs": [
    {
     "data": {
      "text/plain": [
       "[[0, 0, 0, 0, 0, 0],\n",
       " [0, 2, 2, 2, 7, 8],\n",
       " [0, 1, 1, 4, 4, 4],\n",
       " [0, 0, 8, 13, 13, 15],\n",
       " [0, 4, 5, 5, 5, 11],\n",
       " [0, 0, 9, 11, 18, 18]]"
      ]
     },
     "execution_count": 9,
     "metadata": {},
     "output_type": "execute_result"
    }
   ],
   "source": [
    "H, W = 5, 5\n",
    "X_sum = [[0] * (W + 1) for _ in range(H + 1)]\n",
    "X = [\n",
    "    [2, 0, 0, 5, 1],\n",
    "    [1, 0, 3, 0, 0],\n",
    "    [0, 8, 5, 0, 2],\n",
    "    [4, 1, 0, 0, 6],\n",
    "    [0, 9, 2, 7, 0],\n",
    "]\n",
    "\n",
    "# O(HW)\n",
    "# 横方向に累積和を計算\n",
    "for i_h in range(1, H + 1):\n",
    "    for i_w in range(1, W + 1):\n",
    "        X_sum[i_h][i_w] = X_sum[i_h][i_w - 1] + X[i_h - 1][i_w - 1]\n",
    "\n",
    "X_sum\n"
   ]
  },
  {
   "cell_type": "code",
   "execution_count": 10,
   "metadata": {},
   "outputs": [
    {
     "data": {
      "text/plain": [
       "[[0, 0, 0, 0, 0, 0],\n",
       " [0, 2, 2, 2, 7, 8],\n",
       " [0, 3, 3, 6, 11, 12],\n",
       " [0, 3, 11, 19, 24, 27],\n",
       " [0, 7, 16, 24, 29, 38],\n",
       " [0, 7, 25, 35, 47, 56]]"
      ]
     },
     "execution_count": 10,
     "metadata": {},
     "output_type": "execute_result"
    }
   ],
   "source": [
    "# O(HW)\n",
    "# 縦方向に累積和を計算\n",
    "for i_w in range(1, W + 1):\n",
    "    for i_h in range(1, H + 1):\n",
    "        X_sum[i_h][i_w] += X_sum[i_h - 1][i_w]\n",
    "\n",
    "X_sum\n"
   ]
  },
  {
   "cell_type": "code",
   "execution_count": 11,
   "metadata": {},
   "outputs": [
    {
     "name": "stdout",
     "output_type": "stream",
     "text": [
      "25\n",
      "56\n"
     ]
    }
   ],
   "source": [
    "Q = 2\n",
    "AN = [2, 1]\n",
    "BN = [2, 1]\n",
    "CN = [4, 5]\n",
    "DN = [5, 5]\n",
    "# __getitem__ = lambda self, i: self[i - 1]\n",
    "# O(Q)\n",
    "# 区間の和を計算\n",
    "for _ in range(Q):\n",
    "    result = 0\n",
    "    A, B, C, D = AN[_], BN[_], CN[_], DN[_]\n",
    "    result = (\n",
    "        X_sum[C][D] - X_sum[A - 1][D] - X_sum[C][B - 1] + X_sum[A - 1][B - 1]\n",
    "    )\n",
    "    print(result)"
   ]
  },
  {
   "cell_type": "markdown",
   "metadata": {},
   "source": [
    "## A9\n",
    "O(2HW+N)\n",
    "\n",
    "普通にやるとO(HWN)"
   ]
  },
  {
   "cell_type": "code",
   "execution_count": 12,
   "metadata": {},
   "outputs": [],
   "source": [
    "_INPUT = \"\"\"\\\n",
    "5 5 2\n",
    "1 1 3 3\n",
    "2 2 4 4\n",
    "\"\"\""
   ]
  },
  {
   "cell_type": "code",
   "execution_count": 13,
   "metadata": {},
   "outputs": [
    {
     "data": {
      "text/plain": [
       "[[0, 0, 0, 0, 0, 0, 0],\n",
       " [0, 1, 0, 0, -1, 0, 0],\n",
       " [0, 0, 1, 0, 0, -1, 0],\n",
       " [0, 0, 0, 0, 0, 0, 0],\n",
       " [0, -1, 0, 0, 1, 0, 0],\n",
       " [0, 0, -1, 0, 0, 1, 0],\n",
       " [0, 0, 0, 0, 0, 0, 0]]"
      ]
     },
     "execution_count": 13,
     "metadata": {},
     "output_type": "execute_result"
    }
   ],
   "source": [
    "    H, W, N = 5, 5, 2\n",
    "    X = [[0] * (W + 2) for _ in range(H + 2)]\n",
    "    AN = [1, 2]\n",
    "    BN = [1, 2]\n",
    "    CN = [3, 4]\n",
    "    DN = [3, 4]\n",
    "    \n",
    "    # O(N)\n",
    "    # 開始の座標に1、終了の座標に-1を設定\n",
    "    for _ in range(N):\n",
    "        A, B, C, D = AN[_], BN[_], CN[_], DN[_]\n",
    "        X[A][B] += 1\n",
    "        X[C + 1][D + 1] += 1\n",
    "        X[A][D + 1] -= 1\n",
    "        X[C + 1][B] -= 1\n",
    "    \n",
    "    X\n"
   ]
  },
  {
   "cell_type": "code",
   "execution_count": 14,
   "metadata": {},
   "outputs": [
    {
     "data": {
      "text/plain": [
       "[[0, 0, 0, 0, 0, 0, 0],\n",
       " [0, 1, 1, 1, 0, 0, 0],\n",
       " [0, 0, 1, 1, 1, 0, 0],\n",
       " [0, 0, 0, 0, 0, 0, 0],\n",
       " [0, -1, -1, -1, 0, 0, 0],\n",
       " [0, 0, -1, -1, -1, 0, 0],\n",
       " [0, 0, 0, 0, 0, 0, 0]]"
      ]
     },
     "execution_count": 14,
     "metadata": {},
     "output_type": "execute_result"
    }
   ],
   "source": [
    "    # O(HW)\n",
    "    # 横方向に累積和を計算\n",
    "    for i_h in range(1, H + 1):\n",
    "        for i_w in range(1, W + 1):\n",
    "            X[i_h][i_w] += X[i_h][i_w - 1]\n",
    "    \n",
    "    X"
   ]
  },
  {
   "cell_type": "code",
   "execution_count": 15,
   "metadata": {},
   "outputs": [
    {
     "data": {
      "text/plain": [
       "[[0, 0, 0, 0, 0, 0, 0],\n",
       " [0, 1, 1, 1, 0, 0, 0],\n",
       " [0, 1, 2, 2, 1, 0, 0],\n",
       " [0, 1, 2, 2, 1, 0, 0],\n",
       " [0, 0, 1, 1, 1, 0, 0],\n",
       " [0, 0, 0, 0, 0, 0, 0],\n",
       " [0, 0, 0, 0, 0, 0, 0]]"
      ]
     },
     "execution_count": 15,
     "metadata": {},
     "output_type": "execute_result"
    }
   ],
   "source": [
    "    # O(HW)\n",
    "    # 縦方向に累積和を計算\n",
    "    for i_w in range(1, W + 1):\n",
    "        for i_h in range(1, H + 1):\n",
    "            X[i_h][i_w] += X[i_h - 1][i_w]\n",
    "    \n",
    "    X"
   ]
  },
  {
   "cell_type": "code",
   "execution_count": 16,
   "metadata": {},
   "outputs": [
    {
     "name": "stdout",
     "output_type": "stream",
     "text": [
      "1 1 1 0 0 \n",
      "1 2 2 1 0 \n",
      "1 2 2 1 0 \n",
      "0 1 1 1 0 \n",
      "0 0 0 0 0 \n"
     ]
    }
   ],
   "source": [
    "\n",
    "    for i_h in range(1, H + 1):\n",
    "        for i_w in range(1, W + 1):\n",
    "            print(X[i_h][i_w], end=\" \")\n",
    "        print()"
   ]
  },
  {
   "cell_type": "markdown",
   "metadata": {},
   "source": [
    "## A10\n",
    "O(2N+D)\n",
    "\n",
    "普通にやると(ND)"
   ]
  },
  {
   "cell_type": "code",
   "execution_count": 17,
   "metadata": {},
   "outputs": [],
   "source": [
    "_INPUT = \"\"\"\\\n",
    "7\n",
    "1 2 5 5 2 3 1\n",
    "2\n",
    "3 5\n",
    "4 6\n",
    "\"\"\""
   ]
  },
  {
   "cell_type": "code",
   "execution_count": 19,
   "metadata": {},
   "outputs": [],
   "source": [
    "import copy"
   ]
  },
  {
   "cell_type": "code",
   "execution_count": 20,
   "metadata": {},
   "outputs": [
    {
     "data": {
      "text/plain": [
       "[1, 2, 5, 5, 5, 5, 5]"
      ]
     },
     "execution_count": 20,
     "metadata": {},
     "output_type": "execute_result"
    }
   ],
   "source": [
    "N = 7\n",
    "A = [1, 2, 5, 5, 2, 3, 1]\n",
    "D = 2\n",
    "LN = [3, 4]\n",
    "RN = [5, 6]\n",
    "\n",
    "A_max_left = copy.deepcopy(A)\n",
    "A_max_right = copy.deepcopy(A)\n",
    "\n",
    "# O(N)\n",
    "# 左から順に最大値を計算\n",
    "for i_left in range(1, N):\n",
    "    A_max_left[i_left] = max(A_max_left[i_left - 1], A_max_left[i_left])\n",
    "\n",
    "A_max_left\n"
   ]
  },
  {
   "cell_type": "code",
   "execution_count": 21,
   "metadata": {},
   "outputs": [
    {
     "data": {
      "text/plain": [
       "[5, 5, 5, 5, 3, 3, 1]"
      ]
     },
     "execution_count": 21,
     "metadata": {},
     "output_type": "execute_result"
    }
   ],
   "source": [
    "# O(N)\n",
    "# 右から順に最大値を計算\n",
    "for i_right in range(N - 2, -1, -1):\n",
    "    A_max_right[i_right] = max(\n",
    "        A_max_right[i_right + 1], A_max_right[i_right]\n",
    "    )\n",
    "\n",
    "A_max_right\n"
   ]
  },
  {
   "cell_type": "code",
   "execution_count": 22,
   "metadata": {},
   "outputs": [
    {
     "name": "stdout",
     "output_type": "stream",
     "text": [
      "3\n",
      "5\n"
     ]
    }
   ],
   "source": [
    "for _ in range(D):\n",
    "    L, R = LN[_], RN[_]\n",
    "    print(max(A_max_left[L - 2], A_max_right[R]))\n"
   ]
  },
  {
   "cell_type": "code",
   "execution_count": null,
   "metadata": {},
   "outputs": [],
   "source": []
  },
  {
   "cell_type": "code",
   "execution_count": null,
   "metadata": {},
   "outputs": [],
   "source": []
  }
 ],
 "metadata": {
  "kernelspec": {
   "display_name": "Python 3",
   "language": "python",
   "name": "python3"
  },
  "language_info": {
   "codemirror_mode": {
    "name": "ipython",
    "version": 3
   },
   "file_extension": ".py",
   "mimetype": "text/x-python",
   "name": "python",
   "nbconvert_exporter": "python",
   "pygments_lexer": "ipython3",
   "version": "3.8.10"
  },
  "orig_nbformat": 4
 },
 "nbformat": 4,
 "nbformat_minor": 2
}
